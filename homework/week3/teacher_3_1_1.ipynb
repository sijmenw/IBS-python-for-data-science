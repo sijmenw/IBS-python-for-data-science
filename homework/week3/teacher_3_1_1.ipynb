{
 "cells": [
  {
   "cell_type": "markdown",
   "metadata": {},
   "source": [
    "# Agenda"
   ]
  },
  {
   "cell_type": "markdown",
   "metadata": {},
   "source": [
    "* Anne voorstellen\n",
    "* Huiswerk bespreken\n",
    "    * Dennis Willems presenteert Pearson Correlation\n",
    "    * Pokefight video\n",
    "    * Pokefight function\n",
    "* Data Ethiek\n",
    "* Data Visualisatie met Pandas Profiling\n",
    "* Statistiek met Matplotlib\n",
    "* Wetenschappelijk rekenen met Numpy"
   ]
  },
  {
   "cell_type": "markdown",
   "metadata": {},
   "source": [
    "## Data Ethiek\n",
    "\n",
    "Bij het maken van een datamodel kijk je als data scientist/ data modeler altijd wat je insluit en wat je uitsluit aan data. Een model is namelijke en gesimplificeerde vorm van de werkelijkheid. Neem Google Maps, daar zijn wegen in meegenomen, maar gebouwen uitgesloten zodat je het overzicht houdt in je navigatie.\n",
    "\n",
    "In de combinatie van algoritmes en data mining treden vijf mechanismen op die disproportioneel nadelige gevolgen voor bepaalde groepen in de samenleving kunnen opleveren. Er zijn 5 oorzaken van bias:\n",
    "1. Definieer de ‘target variable’ en ‘class labels’,\n",
    "2. Trainingsdata: garbage in garbage out, \n",
    "3. Feature selection,\n",
    "4. Proxies, \n",
    "5. Masking\n",
    "\n",
    "\n",
    "\n",
    "1. Twee begrippen zijn hierbij belangrijk: ‘target variables’ en ‘class labels’ - ook wel ‘doelvariabelen’ en ‘klassen labels’. De gewenste uitkomst, waar men naar op zoek is, wordt de doelvariabele genoemd; in dit voorbeeld een ‘goede’ werknemer. De klassen labels verdelen alle mogelijke eigenschappen van de doelvariabele in categorieën. \n",
    "\n",
    "De definitie van een goede werknemer is geen gegeven, hoe definieer je ‘goed’? Met andere woorden: wat zouden de klassen labels moeten zijn?\n",
    "\n",
    "Selectie-beslissingen gemaakt op basis van de voorspelde arbeidsduur hebben meer kans een negatief effect te hebben op bepaalde groepen dan selectie-beslissingen gebaseerd op een voorspelling van productiviteit. Dit werkt als volgt. Wanneer het verloop onder medewerkers in het verleden systematisch hoger was binnen een bepaalde groep, zullen selectie-beslissingen gebaseerd op ‘voorspelde arbeidsduur’ resulteren in minder baankansen voor leden die in deze groep vallen; ook al zouden zij als individu net zo goed, of misschien zelfs beter, gepresteerd hebben dan andere sollicitanten die niet binnen die groep vallen en door het bedrijf uiteindelijk zijn aangenomen.\n",
    "\n",
    "Denk bijvoorbeeld aan het volgende: Het verloop van vrouwen ligt hoger, vanwege zwangerschap en ongelijke wettelijke voorwaarden voor vaderschapsverlof, waardoor mannen door blijven werken. Hierdoor kunnen vrouwen systematisch benadeeld worden in selectie-beslissingen terwijl zij net zo goed, of zelfs beter, zouden hebben gepresteerd als mannen. Bovendien is er een grote groep vrouwen die wél blijft doorwerken. \n",
    "\n",
    "2. Trainingsdata: Garbage in, garbage out\n",
    "Er is een oud gezegde in de computerwetenschappen: ‘garbage in, garbage out’. Het draait er bij ‘labelling examples’ om hoe er voorheen keuzes zijn gemaakt  - indien er eerder foutieve of onbetrouwbare data is gebruikt voor bepaalde beslissingen, zal het algoritme de vooroordelen van deze voorbeelden reproduceren. Data mining beschouwt de trainingsdata tenslotte als waarheid / feiten; het algoritme zal bij onjuiste data resultaten opleveren die onbetrouwbaar, en in het slechtste geval discriminerend, zijn.\n",
    "\n",
    "Onder- en oververtegenwoordiging \n",
    "Wanneer data mining conclusies trekt uit de gegevens van een slecht samengestelde steekproef, dan kan elke beslissing systematisch nadelig zijn voor degenen die onder- of oververtegenwoordigd waren in die steekproef. De gegevens van bepaalde bevolkingsgroepen zijn dan niet accuraat of representatief. Zo kunnen bepaalde groepen of mensen worden ondervertegenwoordigd, of zelfs over het hoofd gezien.\n",
    "\n",
    "Ondervertegenwoordiging is iets waar veel onderzoekers zich zorgen over maken. Het systematische uitsluiten van mensen die leven op de rand van de ‘big data’ samenleving, zorgt ervoor dat hun leven minder ‘datafied’ is dan dat van de rest van de samenleving – er worden simpelweg systematisch minder gegevens over deze groepen verzameld. Dit heeft oorzaken als armoede, geografische ligging en levensstijl. Het gevolg is dat deze groepen systematisch zijn ondervertegenwoordigd. Dit probleem van ondervertegenwoordiging doet zich ook in grote mate voor bij historisch achtergestelde groepen, omdat zij minder betrokken zijn bij de formele economie en ongelijke toegang hebben (gehad) tot technologie, onderwijs of andere faciliteiten. Deze tekortkomingen hebben dus zowel invloed op de kwaliteit van de data als op onder/oververtegenwoordiging van groepen mensen in datasets. Bij het analyseren van zulke slecht samengestelde datasets liggen foutieve conclusies en discriminatie op de loer.   \n",
    "\n",
    "3. Feature selection\n",
    "Door slechts een paar indicatoren te selecteren kan een bias ontstaan en kunnen bepaalde groepen onbedoeld buitengesloten worden. Neem het volgende voorbeeld: kinderopvangtoeslag affaire van de Belastingdienst.\n",
    "\n",
    "\n",
    "4. Proxies\n",
    "Wat zijn proxies? Proxies zijn cijfers die correlaties aanduiden tussen bepaalde concepten, waardoor ze dienen als een soort voorspellers. Blond haar dient bijvoorbeeld als een proxy voor een blank huidtype. Aan de hand van zulke correlaties worden mensen door algoritmes ingedeeld in groepen. \n",
    "\n",
    ">>AMAZONE Automation has been key to Amazon’s e-commerce dominance, be it inside warehouses or driving pricing decisions. The company’s experimental hiring tool used artificial intelligence to give job candidates scores ranging from one to five stars - much like shoppers rate products on Amazon, some of the people said.\n",
    "“Everyone wanted this holy grail,” one of the people said. “They literally wanted it to be an engine where I’m going to give you 100 resumes, it will spit out the top five, and we’ll hire those.”\n",
    "\n",
    "Wat kunnen we eraan doen? Het proxy-probleem blijkt er een die moeilijk is op te lossen. Barocase en Selbst gaven aan dat computerwetenschappers niet weten hoe om te gaan met de ‘redundant encodings’ in datasets. Want door eenvoudigweg deze variabelen uit de datamining-oefening te verwijderen, worden ook vaak de criteria verwijderd die aantoonbare en gerechtvaardigde relevantie hebben. \n",
    "Maar verwijder je ze niet? Dan zullen de algoritmes blijven doordenken en keer op keer nieuwe patronen blijven ontdekken. Op die manier zullen telkens meer verbanden worden gelegd tussen eigenschappen en lidmaatschap van bepaalde groepen. Hoe de algoritmes zulke links leggen is voor het menselijk oog vaak nog moeilijk te volgen. Daarbij wordt dan ook regelmatig gesproken van ‘the black box’. Deze ‘black box’ lijkt momenteel de grootste zorg omtrent de algoritmisering van de samenleving.\n",
    "\n",
    "5. Masking\n",
    "bovenstaande bewust toepassen. (an array of booleans that determines for each element of the associated array whether the value is valid or not)"
   ]
  },
  {
   "cell_type": "markdown",
   "metadata": {},
   "source": [
    "# Data Visualisation by using Pandas Profiling"
   ]
  },
  {
   "cell_type": "markdown",
   "metadata": {},
   "source": [
    "System install Pandas Profiling by either running the 'wget' command in your Terminal/Powershell?/Bash \n",
    "Or by running the pip install command in Jupyter Notebook\n",
    "\n",
    "Pandas profiling is an open source Python module with which we can quickly do an exploratory data analysis with just a few lines of code. Besides, if this is not enough to convince us to use this tool, it also generates interactive reports in web format that can be presented to any person, even if they don’t know programming.\n",
    "\n",
    "In short, what pandas profiling does is save us all the work of visualizing and understanding the distribution of each variable. It generates a report with all the information easily available.\n",
    "\n",
    "Normally you run all kinds of functions to explore data:\n",
    "info(),\n",
    "describe(),\n",
    "isnull(),\n",
    "corr(),\n",
    "Pandas Profiling does this for you"
   ]
  },
  {
   "cell_type": "code",
   "execution_count": 1,
   "metadata": {},
   "outputs": [
    {
     "name": "stdout",
     "output_type": "stream",
     "text": [
      "Requirement already satisfied: pandas-profiling in /Users/elien.van.riet/anaconda3/envs/summerschool/lib/python3.8/site-packages (2.8.0)\n",
      "Requirement already satisfied: requests>=2.23.0 in /Users/elien.van.riet/anaconda3/envs/summerschool/lib/python3.8/site-packages (from pandas-profiling) (2.24.0)\n",
      "Requirement already satisfied: jinja2>=2.11.1 in /Users/elien.van.riet/anaconda3/envs/summerschool/lib/python3.8/site-packages (from pandas-profiling) (2.11.2)\n",
      "Requirement already satisfied: missingno>=0.4.2 in /Users/elien.van.riet/anaconda3/envs/summerschool/lib/python3.8/site-packages (from pandas-profiling) (0.4.2)\n",
      "Requirement already satisfied: numpy>=1.16.0 in /Users/elien.van.riet/anaconda3/envs/summerschool/lib/python3.8/site-packages (from pandas-profiling) (1.19.1)\n",
      "Requirement already satisfied: tqdm>=4.43.0 in /Users/elien.van.riet/anaconda3/envs/summerschool/lib/python3.8/site-packages (from pandas-profiling) (4.48.2)\n",
      "Requirement already satisfied: tangled-up-in-unicode>=0.0.6 in /Users/elien.van.riet/anaconda3/envs/summerschool/lib/python3.8/site-packages (from pandas-profiling) (0.0.6)\n",
      "Requirement already satisfied: scipy>=1.4.1 in /Users/elien.van.riet/anaconda3/envs/summerschool/lib/python3.8/site-packages (from pandas-profiling) (1.5.2)\n",
      "Requirement already satisfied: matplotlib>=3.2.0 in /Users/elien.van.riet/anaconda3/envs/summerschool/lib/python3.8/site-packages (from pandas-profiling) (3.3.0)\n",
      "Requirement already satisfied: phik>=0.9.10 in /Users/elien.van.riet/anaconda3/envs/summerschool/lib/python3.8/site-packages (from pandas-profiling) (0.10.0)\n",
      "Requirement already satisfied: ipywidgets>=7.5.1 in /Users/elien.van.riet/anaconda3/envs/summerschool/lib/python3.8/site-packages (from pandas-profiling) (7.5.1)\n",
      "Requirement already satisfied: pandas!=1.0.0,!=1.0.1,!=1.0.2,>=0.25.3 in /Users/elien.van.riet/anaconda3/envs/summerschool/lib/python3.8/site-packages (from pandas-profiling) (1.1.0)\n",
      "Requirement already satisfied: joblib in /Users/elien.van.riet/anaconda3/envs/summerschool/lib/python3.8/site-packages (from pandas-profiling) (0.16.0)\n",
      "Requirement already satisfied: visions[type_image_path]==0.4.4 in /Users/elien.van.riet/anaconda3/envs/summerschool/lib/python3.8/site-packages (from pandas-profiling) (0.4.4)\n",
      "Requirement already satisfied: htmlmin>=0.1.12 in /Users/elien.van.riet/anaconda3/envs/summerschool/lib/python3.8/site-packages (from pandas-profiling) (0.1.12)\n",
      "Requirement already satisfied: astropy>=4.0 in /Users/elien.van.riet/anaconda3/envs/summerschool/lib/python3.8/site-packages (from pandas-profiling) (4.0.1.post1)\n",
      "Requirement already satisfied: confuse>=1.0.0 in /Users/elien.van.riet/anaconda3/envs/summerschool/lib/python3.8/site-packages (from pandas-profiling) (1.3.0)\n",
      "Requirement already satisfied: certifi>=2017.4.17 in /Users/elien.van.riet/anaconda3/envs/summerschool/lib/python3.8/site-packages (from requests>=2.23.0->pandas-profiling) (2020.6.20)\n",
      "Requirement already satisfied: idna<3,>=2.5 in /Users/elien.van.riet/anaconda3/envs/summerschool/lib/python3.8/site-packages (from requests>=2.23.0->pandas-profiling) (2.10)\n",
      "Requirement already satisfied: urllib3!=1.25.0,!=1.25.1,<1.26,>=1.21.1 in /Users/elien.van.riet/anaconda3/envs/summerschool/lib/python3.8/site-packages (from requests>=2.23.0->pandas-profiling) (1.25.10)\n",
      "Requirement already satisfied: chardet<4,>=3.0.2 in /Users/elien.van.riet/anaconda3/envs/summerschool/lib/python3.8/site-packages (from requests>=2.23.0->pandas-profiling) (3.0.4)\n",
      "Requirement already satisfied: MarkupSafe>=0.23 in /Users/elien.van.riet/anaconda3/envs/summerschool/lib/python3.8/site-packages (from jinja2>=2.11.1->pandas-profiling) (1.1.1)\n",
      "Requirement already satisfied: seaborn in /Users/elien.van.riet/anaconda3/envs/summerschool/lib/python3.8/site-packages (from missingno>=0.4.2->pandas-profiling) (0.10.1)\n",
      "Requirement already satisfied: cycler>=0.10 in /Users/elien.van.riet/anaconda3/envs/summerschool/lib/python3.8/site-packages (from matplotlib>=3.2.0->pandas-profiling) (0.10.0)\n",
      "Requirement already satisfied: pyparsing!=2.0.4,!=2.1.2,!=2.1.6,>=2.0.3 in /Users/elien.van.riet/anaconda3/envs/summerschool/lib/python3.8/site-packages (from matplotlib>=3.2.0->pandas-profiling) (2.4.7)\n",
      "Requirement already satisfied: python-dateutil>=2.1 in /Users/elien.van.riet/anaconda3/envs/summerschool/lib/python3.8/site-packages (from matplotlib>=3.2.0->pandas-profiling) (2.8.1)\n",
      "Requirement already satisfied: kiwisolver>=1.0.1 in /Users/elien.van.riet/anaconda3/envs/summerschool/lib/python3.8/site-packages (from matplotlib>=3.2.0->pandas-profiling) (1.2.0)\n",
      "Requirement already satisfied: pillow>=6.2.0 in /Users/elien.van.riet/anaconda3/envs/summerschool/lib/python3.8/site-packages (from matplotlib>=3.2.0->pandas-profiling) (7.2.0)\n",
      "Requirement already satisfied: numba>=0.38.1 in /Users/elien.van.riet/anaconda3/envs/summerschool/lib/python3.8/site-packages (from phik>=0.9.10->pandas-profiling) (0.50.1)\n",
      "Requirement already satisfied: traitlets>=4.3.1 in /Users/elien.van.riet/anaconda3/envs/summerschool/lib/python3.8/site-packages (from ipywidgets>=7.5.1->pandas-profiling) (4.3.3)\n",
      "Requirement already satisfied: ipykernel>=4.5.1 in /Users/elien.van.riet/anaconda3/envs/summerschool/lib/python3.8/site-packages (from ipywidgets>=7.5.1->pandas-profiling) (5.3.4)\n",
      "Requirement already satisfied: ipython>=4.0.0; python_version >= \"3.3\" in /Users/elien.van.riet/anaconda3/envs/summerschool/lib/python3.8/site-packages (from ipywidgets>=7.5.1->pandas-profiling) (7.16.1)\n",
      "Requirement already satisfied: nbformat>=4.2.0 in /Users/elien.van.riet/anaconda3/envs/summerschool/lib/python3.8/site-packages (from ipywidgets>=7.5.1->pandas-profiling) (5.0.7)\n",
      "Requirement already satisfied: widgetsnbextension~=3.5.0 in /Users/elien.van.riet/anaconda3/envs/summerschool/lib/python3.8/site-packages (from ipywidgets>=7.5.1->pandas-profiling) (3.5.1)\n",
      "Requirement already satisfied: pytz>=2017.2 in /Users/elien.van.riet/anaconda3/envs/summerschool/lib/python3.8/site-packages (from pandas!=1.0.0,!=1.0.1,!=1.0.2,>=0.25.3->pandas-profiling) (2020.1)\n",
      "Requirement already satisfied: attrs>=19.3.0 in /Users/elien.van.riet/anaconda3/envs/summerschool/lib/python3.8/site-packages (from visions[type_image_path]==0.4.4->pandas-profiling) (19.3.0)\n",
      "Requirement already satisfied: networkx>=2.4 in /Users/elien.van.riet/anaconda3/envs/summerschool/lib/python3.8/site-packages (from visions[type_image_path]==0.4.4->pandas-profiling) (2.4)\n",
      "Requirement already satisfied: imagehash; extra == \"type_image_path\" in /Users/elien.van.riet/anaconda3/envs/summerschool/lib/python3.8/site-packages (from visions[type_image_path]==0.4.4->pandas-profiling) (4.1.0)\n",
      "Requirement already satisfied: pyyaml in /Users/elien.van.riet/anaconda3/envs/summerschool/lib/python3.8/site-packages (from confuse>=1.0.0->pandas-profiling) (5.3.1)\n",
      "Requirement already satisfied: six in /Users/elien.van.riet/anaconda3/envs/summerschool/lib/python3.8/site-packages (from cycler>=0.10->matplotlib>=3.2.0->pandas-profiling) (1.15.0)\n",
      "Requirement already satisfied: llvmlite<0.34,>=0.33.0.dev0 in /Users/elien.van.riet/anaconda3/envs/summerschool/lib/python3.8/site-packages (from numba>=0.38.1->phik>=0.9.10->pandas-profiling) (0.33.0)\n",
      "Requirement already satisfied: setuptools in /Users/elien.van.riet/anaconda3/envs/summerschool/lib/python3.8/site-packages (from numba>=0.38.1->phik>=0.9.10->pandas-profiling) (49.2.0.post20200714)\n",
      "Requirement already satisfied: decorator in /Users/elien.van.riet/anaconda3/envs/summerschool/lib/python3.8/site-packages (from traitlets>=4.3.1->ipywidgets>=7.5.1->pandas-profiling) (4.4.2)\n",
      "Requirement already satisfied: ipython-genutils in /Users/elien.van.riet/anaconda3/envs/summerschool/lib/python3.8/site-packages (from traitlets>=4.3.1->ipywidgets>=7.5.1->pandas-profiling) (0.2.0)\n",
      "Requirement already satisfied: jupyter-client in /Users/elien.van.riet/anaconda3/envs/summerschool/lib/python3.8/site-packages (from ipykernel>=4.5.1->ipywidgets>=7.5.1->pandas-profiling) (6.1.6)\n",
      "Requirement already satisfied: tornado>=4.2 in /Users/elien.van.riet/anaconda3/envs/summerschool/lib/python3.8/site-packages (from ipykernel>=4.5.1->ipywidgets>=7.5.1->pandas-profiling) (6.0.4)\n",
      "Requirement already satisfied: appnope; platform_system == \"Darwin\" in /Users/elien.van.riet/anaconda3/envs/summerschool/lib/python3.8/site-packages (from ipykernel>=4.5.1->ipywidgets>=7.5.1->pandas-profiling) (0.1.0)\n",
      "Requirement already satisfied: prompt-toolkit!=3.0.0,!=3.0.1,<3.1.0,>=2.0.0 in /Users/elien.van.riet/anaconda3/envs/summerschool/lib/python3.8/site-packages (from ipython>=4.0.0; python_version >= \"3.3\"->ipywidgets>=7.5.1->pandas-profiling) (3.0.5)\n",
      "Requirement already satisfied: backcall in /Users/elien.van.riet/anaconda3/envs/summerschool/lib/python3.8/site-packages (from ipython>=4.0.0; python_version >= \"3.3\"->ipywidgets>=7.5.1->pandas-profiling) (0.2.0)\n",
      "Requirement already satisfied: pickleshare in /Users/elien.van.riet/anaconda3/envs/summerschool/lib/python3.8/site-packages (from ipython>=4.0.0; python_version >= \"3.3\"->ipywidgets>=7.5.1->pandas-profiling) (0.7.5)\n",
      "Requirement already satisfied: jedi>=0.10 in /Users/elien.van.riet/anaconda3/envs/summerschool/lib/python3.8/site-packages (from ipython>=4.0.0; python_version >= \"3.3\"->ipywidgets>=7.5.1->pandas-profiling) (0.17.2)\n",
      "Requirement already satisfied: pygments in /Users/elien.van.riet/anaconda3/envs/summerschool/lib/python3.8/site-packages (from ipython>=4.0.0; python_version >= \"3.3\"->ipywidgets>=7.5.1->pandas-profiling) (2.6.1)\n",
      "Requirement already satisfied: pexpect; sys_platform != \"win32\" in /Users/elien.van.riet/anaconda3/envs/summerschool/lib/python3.8/site-packages (from ipython>=4.0.0; python_version >= \"3.3\"->ipywidgets>=7.5.1->pandas-profiling) (4.8.0)\n",
      "Requirement already satisfied: jupyter-core in /Users/elien.van.riet/anaconda3/envs/summerschool/lib/python3.8/site-packages (from nbformat>=4.2.0->ipywidgets>=7.5.1->pandas-profiling) (4.6.3)\n",
      "Requirement already satisfied: jsonschema!=2.5.0,>=2.4 in /Users/elien.van.riet/anaconda3/envs/summerschool/lib/python3.8/site-packages (from nbformat>=4.2.0->ipywidgets>=7.5.1->pandas-profiling) (3.2.0)\n",
      "Requirement already satisfied: notebook>=4.4.1 in /Users/elien.van.riet/anaconda3/envs/summerschool/lib/python3.8/site-packages (from widgetsnbextension~=3.5.0->ipywidgets>=7.5.1->pandas-profiling) (6.0.3)\n",
      "Requirement already satisfied: PyWavelets in /Users/elien.van.riet/anaconda3/envs/summerschool/lib/python3.8/site-packages (from imagehash; extra == \"type_image_path\"->visions[type_image_path]==0.4.4->pandas-profiling) (1.1.1)\n",
      "Requirement already satisfied: pyzmq>=13 in /Users/elien.van.riet/anaconda3/envs/summerschool/lib/python3.8/site-packages (from jupyter-client->ipykernel>=4.5.1->ipywidgets>=7.5.1->pandas-profiling) (19.0.1)\n",
      "Requirement already satisfied: wcwidth in /Users/elien.van.riet/anaconda3/envs/summerschool/lib/python3.8/site-packages (from prompt-toolkit!=3.0.0,!=3.0.1,<3.1.0,>=2.0.0->ipython>=4.0.0; python_version >= \"3.3\"->ipywidgets>=7.5.1->pandas-profiling) (0.2.5)\n",
      "Requirement already satisfied: parso<0.8.0,>=0.7.0 in /Users/elien.van.riet/anaconda3/envs/summerschool/lib/python3.8/site-packages (from jedi>=0.10->ipython>=4.0.0; python_version >= \"3.3\"->ipywidgets>=7.5.1->pandas-profiling) (0.7.1)\n",
      "Requirement already satisfied: ptyprocess>=0.5 in /Users/elien.van.riet/anaconda3/envs/summerschool/lib/python3.8/site-packages (from pexpect; sys_platform != \"win32\"->ipython>=4.0.0; python_version >= \"3.3\"->ipywidgets>=7.5.1->pandas-profiling) (0.6.0)\n",
      "Requirement already satisfied: pyrsistent>=0.14.0 in /Users/elien.van.riet/anaconda3/envs/summerschool/lib/python3.8/site-packages (from jsonschema!=2.5.0,>=2.4->nbformat>=4.2.0->ipywidgets>=7.5.1->pandas-profiling) (0.16.0)\n",
      "Requirement already satisfied: terminado>=0.8.1 in /Users/elien.van.riet/anaconda3/envs/summerschool/lib/python3.8/site-packages (from notebook>=4.4.1->widgetsnbextension~=3.5.0->ipywidgets>=7.5.1->pandas-profiling) (0.8.3)\n",
      "Requirement already satisfied: nbconvert in /Users/elien.van.riet/anaconda3/envs/summerschool/lib/python3.8/site-packages (from notebook>=4.4.1->widgetsnbextension~=3.5.0->ipywidgets>=7.5.1->pandas-profiling) (5.6.1)\n",
      "Requirement already satisfied: Send2Trash in /Users/elien.van.riet/anaconda3/envs/summerschool/lib/python3.8/site-packages (from notebook>=4.4.1->widgetsnbextension~=3.5.0->ipywidgets>=7.5.1->pandas-profiling) (1.5.0)\n",
      "Requirement already satisfied: prometheus-client in /Users/elien.van.riet/anaconda3/envs/summerschool/lib/python3.8/site-packages (from notebook>=4.4.1->widgetsnbextension~=3.5.0->ipywidgets>=7.5.1->pandas-profiling) (0.8.0)\n",
      "Requirement already satisfied: bleach in /Users/elien.van.riet/anaconda3/envs/summerschool/lib/python3.8/site-packages (from nbconvert->notebook>=4.4.1->widgetsnbextension~=3.5.0->ipywidgets>=7.5.1->pandas-profiling) (3.1.5)\n",
      "Requirement already satisfied: entrypoints>=0.2.2 in /Users/elien.van.riet/anaconda3/envs/summerschool/lib/python3.8/site-packages (from nbconvert->notebook>=4.4.1->widgetsnbextension~=3.5.0->ipywidgets>=7.5.1->pandas-profiling) (0.3)\n",
      "Requirement already satisfied: mistune<2,>=0.8.1 in /Users/elien.van.riet/anaconda3/envs/summerschool/lib/python3.8/site-packages (from nbconvert->notebook>=4.4.1->widgetsnbextension~=3.5.0->ipywidgets>=7.5.1->pandas-profiling) (0.8.4)\n",
      "Requirement already satisfied: pandocfilters>=1.4.1 in /Users/elien.van.riet/anaconda3/envs/summerschool/lib/python3.8/site-packages (from nbconvert->notebook>=4.4.1->widgetsnbextension~=3.5.0->ipywidgets>=7.5.1->pandas-profiling) (1.4.2)\n",
      "Requirement already satisfied: defusedxml in /Users/elien.van.riet/anaconda3/envs/summerschool/lib/python3.8/site-packages (from nbconvert->notebook>=4.4.1->widgetsnbextension~=3.5.0->ipywidgets>=7.5.1->pandas-profiling) (0.6.0)\n",
      "Requirement already satisfied: testpath in /Users/elien.van.riet/anaconda3/envs/summerschool/lib/python3.8/site-packages (from nbconvert->notebook>=4.4.1->widgetsnbextension~=3.5.0->ipywidgets>=7.5.1->pandas-profiling) (0.4.4)\n",
      "Requirement already satisfied: packaging in /Users/elien.van.riet/anaconda3/envs/summerschool/lib/python3.8/site-packages (from bleach->nbconvert->notebook>=4.4.1->widgetsnbextension~=3.5.0->ipywidgets>=7.5.1->pandas-profiling) (20.4)\n",
      "Requirement already satisfied: webencodings in /Users/elien.van.riet/anaconda3/envs/summerschool/lib/python3.8/site-packages (from bleach->nbconvert->notebook>=4.4.1->widgetsnbextension~=3.5.0->ipywidgets>=7.5.1->pandas-profiling) (0.5.1)\n"
     ]
    }
   ],
   "source": [
    "import sys\n",
    "!{sys.executable} -m pip install pandas-profiling "
   ]
  },
  {
   "cell_type": "code",
   "execution_count": 2,
   "metadata": {},
   "outputs": [],
   "source": [
    "import pandas as pd"
   ]
  },
  {
   "cell_type": "code",
   "execution_count": 19,
   "metadata": {},
   "outputs": [
    {
     "data": {
      "application/vnd.jupyter.widget-view+json": {
       "model_id": "e947575249884784813fdef0018e1f6d",
       "version_major": 2,
       "version_minor": 0
      },
      "text/plain": [
       "HBox(children=(FloatProgress(value=0.0, description='Summarize dataset', max=31.0, style=ProgressStyle(descrip…"
      ]
     },
     "metadata": {},
     "output_type": "display_data"
    },
    {
     "name": "stdout",
     "output_type": "stream",
     "text": [
      "\n"
     ]
    },
    {
     "data": {
      "application/vnd.jupyter.widget-view+json": {
       "model_id": "784944dd11f7455ba83bddd1af0dab2a",
       "version_major": 2,
       "version_minor": 0
      },
      "text/plain": [
       "HBox(children=(FloatProgress(value=0.0, description='Generate report structure', max=1.0, style=ProgressStyle(…"
      ]
     },
     "metadata": {},
     "output_type": "display_data"
    },
    {
     "name": "stderr",
     "output_type": "stream",
     "text": [
      "/Users/elien.van.riet/anaconda3/envs/summerschool/lib/python3.8/site-packages/pandas_profiling/visualisation/plot.py:154: MatplotlibDeprecationWarning: You are modifying the state of a globally registered colormap. In future versions, you will not be able to modify a registered colormap in-place. To remove this warning, you can make a copy of the colormap first. cmap = copy.copy(mpl.cm.get_cmap(\"RdBu\"))\n",
      "  cmap.set_bad(cmap_bad)\n"
     ]
    },
    {
     "name": "stdout",
     "output_type": "stream",
     "text": [
      "\n"
     ]
    },
    {
     "data": {
      "application/vnd.jupyter.widget-view+json": {
       "model_id": "903af818396b42e992df5d963a6e427b",
       "version_major": 2,
       "version_minor": 0
      },
      "text/plain": [
       "HBox(children=(FloatProgress(value=0.0, description='Render HTML', max=1.0, style=ProgressStyle(description_wi…"
      ]
     },
     "metadata": {},
     "output_type": "display_data"
    },
    {
     "name": "stdout",
     "output_type": "stream",
     "text": [
      "\n"
     ]
    },
    {
     "data": {
      "application/vnd.jupyter.widget-view+json": {
       "model_id": "4f05f629e4f34aa5a7019f1b890121dd",
       "version_major": 2,
       "version_minor": 0
      },
      "text/plain": [
       "HBox(children=(FloatProgress(value=0.0, description='Export report to file', max=1.0, style=ProgressStyle(desc…"
      ]
     },
     "metadata": {},
     "output_type": "display_data"
    },
    {
     "name": "stdout",
     "output_type": "stream",
     "text": [
      "\n"
     ]
    }
   ],
   "source": [
    "from pandas_profiling import ProfileReport\n",
    "df = pd.read_csv('supermarket.csv')\n",
    "report = ProfileReport(df)\n",
    "report.to_file(output_file='supermarket_output.html')"
   ]
  },
  {
   "cell_type": "code",
   "execution_count": 3,
   "metadata": {},
   "outputs": [
    {
     "data": {
      "text/html": [
       "<div>\n",
       "<style scoped>\n",
       "    .dataframe tbody tr th:only-of-type {\n",
       "        vertical-align: middle;\n",
       "    }\n",
       "\n",
       "    .dataframe tbody tr th {\n",
       "        vertical-align: top;\n",
       "    }\n",
       "\n",
       "    .dataframe thead th {\n",
       "        text-align: right;\n",
       "    }\n",
       "</style>\n",
       "<table border=\"1\" class=\"dataframe\">\n",
       "  <thead>\n",
       "    <tr style=\"text-align: right;\">\n",
       "      <th></th>\n",
       "      <th>Invoice ID</th>\n",
       "      <th>Branch</th>\n",
       "      <th>City</th>\n",
       "      <th>Customer type</th>\n",
       "      <th>Gender</th>\n",
       "      <th>Product line</th>\n",
       "      <th>Unit price</th>\n",
       "      <th>Quantity</th>\n",
       "      <th>Tax 5%</th>\n",
       "      <th>Total</th>\n",
       "      <th>Date</th>\n",
       "      <th>Time</th>\n",
       "      <th>Payment</th>\n",
       "      <th>cogs</th>\n",
       "      <th>gross margin percentage</th>\n",
       "      <th>gross income</th>\n",
       "      <th>Rating</th>\n",
       "    </tr>\n",
       "  </thead>\n",
       "  <tbody>\n",
       "    <tr>\n",
       "      <th>0</th>\n",
       "      <td>750-67-8428</td>\n",
       "      <td>A</td>\n",
       "      <td>Yangon</td>\n",
       "      <td>Member</td>\n",
       "      <td>Female</td>\n",
       "      <td>Health and beauty</td>\n",
       "      <td>74.69</td>\n",
       "      <td>7</td>\n",
       "      <td>26.1415</td>\n",
       "      <td>548.9715</td>\n",
       "      <td>1/5/2019</td>\n",
       "      <td>13:08</td>\n",
       "      <td>Ewallet</td>\n",
       "      <td>522.83</td>\n",
       "      <td>4.761905</td>\n",
       "      <td>26.1415</td>\n",
       "      <td>9.1</td>\n",
       "    </tr>\n",
       "    <tr>\n",
       "      <th>1</th>\n",
       "      <td>226-31-3081</td>\n",
       "      <td>C</td>\n",
       "      <td>Naypyitaw</td>\n",
       "      <td>Normal</td>\n",
       "      <td>Female</td>\n",
       "      <td>Electronic accessories</td>\n",
       "      <td>15.28</td>\n",
       "      <td>5</td>\n",
       "      <td>3.8200</td>\n",
       "      <td>80.2200</td>\n",
       "      <td>3/8/2019</td>\n",
       "      <td>10:29</td>\n",
       "      <td>Cash</td>\n",
       "      <td>76.40</td>\n",
       "      <td>4.761905</td>\n",
       "      <td>3.8200</td>\n",
       "      <td>9.6</td>\n",
       "    </tr>\n",
       "    <tr>\n",
       "      <th>2</th>\n",
       "      <td>631-41-3108</td>\n",
       "      <td>A</td>\n",
       "      <td>Yangon</td>\n",
       "      <td>Normal</td>\n",
       "      <td>Male</td>\n",
       "      <td>Home and lifestyle</td>\n",
       "      <td>46.33</td>\n",
       "      <td>7</td>\n",
       "      <td>16.2155</td>\n",
       "      <td>340.5255</td>\n",
       "      <td>3/3/2019</td>\n",
       "      <td>13:23</td>\n",
       "      <td>Credit card</td>\n",
       "      <td>324.31</td>\n",
       "      <td>4.761905</td>\n",
       "      <td>16.2155</td>\n",
       "      <td>7.4</td>\n",
       "    </tr>\n",
       "    <tr>\n",
       "      <th>3</th>\n",
       "      <td>123-19-1176</td>\n",
       "      <td>A</td>\n",
       "      <td>Yangon</td>\n",
       "      <td>Member</td>\n",
       "      <td>Male</td>\n",
       "      <td>Health and beauty</td>\n",
       "      <td>58.22</td>\n",
       "      <td>8</td>\n",
       "      <td>23.2880</td>\n",
       "      <td>489.0480</td>\n",
       "      <td>1/27/2019</td>\n",
       "      <td>20:33</td>\n",
       "      <td>Ewallet</td>\n",
       "      <td>465.76</td>\n",
       "      <td>4.761905</td>\n",
       "      <td>23.2880</td>\n",
       "      <td>8.4</td>\n",
       "    </tr>\n",
       "    <tr>\n",
       "      <th>4</th>\n",
       "      <td>373-73-7910</td>\n",
       "      <td>A</td>\n",
       "      <td>Yangon</td>\n",
       "      <td>Normal</td>\n",
       "      <td>Male</td>\n",
       "      <td>Sports and travel</td>\n",
       "      <td>86.31</td>\n",
       "      <td>7</td>\n",
       "      <td>30.2085</td>\n",
       "      <td>634.3785</td>\n",
       "      <td>2/8/2019</td>\n",
       "      <td>10:37</td>\n",
       "      <td>Ewallet</td>\n",
       "      <td>604.17</td>\n",
       "      <td>4.761905</td>\n",
       "      <td>30.2085</td>\n",
       "      <td>5.3</td>\n",
       "    </tr>\n",
       "    <tr>\n",
       "      <th>...</th>\n",
       "      <td>...</td>\n",
       "      <td>...</td>\n",
       "      <td>...</td>\n",
       "      <td>...</td>\n",
       "      <td>...</td>\n",
       "      <td>...</td>\n",
       "      <td>...</td>\n",
       "      <td>...</td>\n",
       "      <td>...</td>\n",
       "      <td>...</td>\n",
       "      <td>...</td>\n",
       "      <td>...</td>\n",
       "      <td>...</td>\n",
       "      <td>...</td>\n",
       "      <td>...</td>\n",
       "      <td>...</td>\n",
       "      <td>...</td>\n",
       "    </tr>\n",
       "    <tr>\n",
       "      <th>995</th>\n",
       "      <td>233-67-5758</td>\n",
       "      <td>C</td>\n",
       "      <td>Naypyitaw</td>\n",
       "      <td>Normal</td>\n",
       "      <td>Male</td>\n",
       "      <td>Health and beauty</td>\n",
       "      <td>40.35</td>\n",
       "      <td>1</td>\n",
       "      <td>2.0175</td>\n",
       "      <td>42.3675</td>\n",
       "      <td>1/29/2019</td>\n",
       "      <td>13:46</td>\n",
       "      <td>Ewallet</td>\n",
       "      <td>40.35</td>\n",
       "      <td>4.761905</td>\n",
       "      <td>2.0175</td>\n",
       "      <td>6.2</td>\n",
       "    </tr>\n",
       "    <tr>\n",
       "      <th>996</th>\n",
       "      <td>303-96-2227</td>\n",
       "      <td>B</td>\n",
       "      <td>Mandalay</td>\n",
       "      <td>Normal</td>\n",
       "      <td>Female</td>\n",
       "      <td>Home and lifestyle</td>\n",
       "      <td>97.38</td>\n",
       "      <td>10</td>\n",
       "      <td>48.6900</td>\n",
       "      <td>1022.4900</td>\n",
       "      <td>3/2/2019</td>\n",
       "      <td>17:16</td>\n",
       "      <td>Ewallet</td>\n",
       "      <td>973.80</td>\n",
       "      <td>4.761905</td>\n",
       "      <td>48.6900</td>\n",
       "      <td>4.4</td>\n",
       "    </tr>\n",
       "    <tr>\n",
       "      <th>997</th>\n",
       "      <td>727-02-1313</td>\n",
       "      <td>A</td>\n",
       "      <td>Yangon</td>\n",
       "      <td>Member</td>\n",
       "      <td>Male</td>\n",
       "      <td>Food and beverages</td>\n",
       "      <td>31.84</td>\n",
       "      <td>1</td>\n",
       "      <td>1.5920</td>\n",
       "      <td>33.4320</td>\n",
       "      <td>2/9/2019</td>\n",
       "      <td>13:22</td>\n",
       "      <td>Cash</td>\n",
       "      <td>31.84</td>\n",
       "      <td>4.761905</td>\n",
       "      <td>1.5920</td>\n",
       "      <td>7.7</td>\n",
       "    </tr>\n",
       "    <tr>\n",
       "      <th>998</th>\n",
       "      <td>347-56-2442</td>\n",
       "      <td>A</td>\n",
       "      <td>Yangon</td>\n",
       "      <td>Normal</td>\n",
       "      <td>Male</td>\n",
       "      <td>Home and lifestyle</td>\n",
       "      <td>65.82</td>\n",
       "      <td>1</td>\n",
       "      <td>3.2910</td>\n",
       "      <td>69.1110</td>\n",
       "      <td>2/22/2019</td>\n",
       "      <td>15:33</td>\n",
       "      <td>Cash</td>\n",
       "      <td>65.82</td>\n",
       "      <td>4.761905</td>\n",
       "      <td>3.2910</td>\n",
       "      <td>4.1</td>\n",
       "    </tr>\n",
       "    <tr>\n",
       "      <th>999</th>\n",
       "      <td>849-09-3807</td>\n",
       "      <td>A</td>\n",
       "      <td>Yangon</td>\n",
       "      <td>Member</td>\n",
       "      <td>Female</td>\n",
       "      <td>Fashion accessories</td>\n",
       "      <td>88.34</td>\n",
       "      <td>7</td>\n",
       "      <td>30.9190</td>\n",
       "      <td>649.2990</td>\n",
       "      <td>2/18/2019</td>\n",
       "      <td>13:28</td>\n",
       "      <td>Cash</td>\n",
       "      <td>618.38</td>\n",
       "      <td>4.761905</td>\n",
       "      <td>30.9190</td>\n",
       "      <td>6.6</td>\n",
       "    </tr>\n",
       "  </tbody>\n",
       "</table>\n",
       "<p>1000 rows × 17 columns</p>\n",
       "</div>"
      ],
      "text/plain": [
       "      Invoice ID Branch       City Customer type  Gender  \\\n",
       "0    750-67-8428      A     Yangon        Member  Female   \n",
       "1    226-31-3081      C  Naypyitaw        Normal  Female   \n",
       "2    631-41-3108      A     Yangon        Normal    Male   \n",
       "3    123-19-1176      A     Yangon        Member    Male   \n",
       "4    373-73-7910      A     Yangon        Normal    Male   \n",
       "..           ...    ...        ...           ...     ...   \n",
       "995  233-67-5758      C  Naypyitaw        Normal    Male   \n",
       "996  303-96-2227      B   Mandalay        Normal  Female   \n",
       "997  727-02-1313      A     Yangon        Member    Male   \n",
       "998  347-56-2442      A     Yangon        Normal    Male   \n",
       "999  849-09-3807      A     Yangon        Member  Female   \n",
       "\n",
       "               Product line  Unit price  Quantity   Tax 5%      Total  \\\n",
       "0         Health and beauty       74.69         7  26.1415   548.9715   \n",
       "1    Electronic accessories       15.28         5   3.8200    80.2200   \n",
       "2        Home and lifestyle       46.33         7  16.2155   340.5255   \n",
       "3         Health and beauty       58.22         8  23.2880   489.0480   \n",
       "4         Sports and travel       86.31         7  30.2085   634.3785   \n",
       "..                      ...         ...       ...      ...        ...   \n",
       "995       Health and beauty       40.35         1   2.0175    42.3675   \n",
       "996      Home and lifestyle       97.38        10  48.6900  1022.4900   \n",
       "997      Food and beverages       31.84         1   1.5920    33.4320   \n",
       "998      Home and lifestyle       65.82         1   3.2910    69.1110   \n",
       "999     Fashion accessories       88.34         7  30.9190   649.2990   \n",
       "\n",
       "          Date   Time      Payment    cogs  gross margin percentage  \\\n",
       "0     1/5/2019  13:08      Ewallet  522.83                 4.761905   \n",
       "1     3/8/2019  10:29         Cash   76.40                 4.761905   \n",
       "2     3/3/2019  13:23  Credit card  324.31                 4.761905   \n",
       "3    1/27/2019  20:33      Ewallet  465.76                 4.761905   \n",
       "4     2/8/2019  10:37      Ewallet  604.17                 4.761905   \n",
       "..         ...    ...          ...     ...                      ...   \n",
       "995  1/29/2019  13:46      Ewallet   40.35                 4.761905   \n",
       "996   3/2/2019  17:16      Ewallet  973.80                 4.761905   \n",
       "997   2/9/2019  13:22         Cash   31.84                 4.761905   \n",
       "998  2/22/2019  15:33         Cash   65.82                 4.761905   \n",
       "999  2/18/2019  13:28         Cash  618.38                 4.761905   \n",
       "\n",
       "     gross income  Rating  \n",
       "0         26.1415     9.1  \n",
       "1          3.8200     9.6  \n",
       "2         16.2155     7.4  \n",
       "3         23.2880     8.4  \n",
       "4         30.2085     5.3  \n",
       "..            ...     ...  \n",
       "995        2.0175     6.2  \n",
       "996       48.6900     4.4  \n",
       "997        1.5920     7.7  \n",
       "998        3.2910     4.1  \n",
       "999       30.9190     6.6  \n",
       "\n",
       "[1000 rows x 17 columns]"
      ]
     },
     "execution_count": 3,
     "metadata": {},
     "output_type": "execute_result"
    }
   ],
   "source": [
    "import pandas as pd\n",
    "df = pd.read_csv('supermarket.csv')\n",
    "df"
   ]
  },
  {
   "cell_type": "markdown",
   "metadata": {},
   "source": [
    "## Statistiek met Matplotlib"
   ]
  },
  {
   "cell_type": "markdown",
   "metadata": {},
   "source": [
    "* correlatie middels scatterplot\n",
    "* mean\n",
    "* standaard deviatie \n",
    "* p-waarde\n",
    "* skew data t-test (sample test) en z-test (representatief voor de populatie), wat is significantie?\n",
    "* outliers (boxplot)"
   ]
  },
  {
   "cell_type": "markdown",
   "metadata": {},
   "source": [
    "### Correlatie bereken met Scatterplot"
   ]
  },
  {
   "cell_type": "markdown",
   "metadata": {},
   "source": [
    "Scatter plot is a graph of two sets of data along the two axes. It is used to visualize the relationship between the two variables.\n",
    "\n",
    "If the value along the Y axis seem to increase as X axis increases(or decreases), it could indicate a positive (or negative) linear relationship. Whereas, if the points are randomly distributed with no obvious pattern, it could possibly indicate a lack of dependent relationship.\n",
    "\n",
    "In python matplotlib, the scatterplot can be created using the pyplot.plot() or the pyplot.scatter(). Using these functions, you can add more feature to your scatter plot, like changing the size, color or shape of the points."
   ]
  },
  {
   "cell_type": "code",
   "execution_count": 4,
   "metadata": {},
   "outputs": [],
   "source": [
    "import pandas as pd\n",
    "import numpy as np\n",
    "import matplotlib.pyplot as plt\n",
    "%matplotlib inline\n",
    "plt.rcParams.update({'figure.figsize':(10,8), 'figure.dpi':100})"
   ]
  },
  {
   "cell_type": "markdown",
   "metadata": {},
   "source": [
    "1. If the value of y increases with the value of x, then we can say that the variables have a positive correlation.\n",
    "\n",
    "2. If the value of y decreases with the value of x, then we can say that the variables have a negative correlation.\n",
    "\n",
    "3. If the value of y changes randomly independent of x, then it is said to have a zero corelation."
   ]
  },
  {
   "cell_type": "code",
   "execution_count": 8,
   "metadata": {},
   "outputs": [
    {
     "data": {
      "image/png": "[encoded data removed]",
      "text/plain": [
       "<Figure size 1000x800 with 1 Axes>"
      ]
     },
     "metadata": {
      "needs_background": "light"
     },
     "output_type": "display_data"
    }
   ],
   "source": [
    "# Scatterplot and Correlations\n",
    "\n",
    "# data\n",
    "x = df['cogs']\n",
    "y1 = df['Total']\n",
    "y2 = df['Rating']\n",
    "y3 = df['gross income']\n",
    "\n",
    "# Plot\n",
    "plt.rcParams.update({'figure.figsize':(10,8), 'figure.dpi':100})\n",
    "plt.scatter(x, y1, label=f'y1 Correlation = {np.round(np.corrcoef(x,y1)[0,1], 2)}')\n",
    "plt.scatter(x, y2, label=f'y2 Correlation = {np.round(np.corrcoef(x,y2)[0,1], 2)}')\n",
    "plt.scatter(x, y3, label=f'y3 Correlation = {np.round(np.corrcoef(x,y3)[0,1], 2)}') \n",
    "\n",
    "# Legend\n",
    "plt.title('Scatterplot and Correlations')\n",
    "plt.legend()\n",
    "plt.show()"
   ]
  },
  {
   "cell_type": "code",
   "execution_count": 29,
   "metadata": {},
   "outputs": [
    {
     "data": {
      "image/png": "[encoded data removed]",
      "text/plain": [
       "<Figure size 1000x800 with 1 Axes>"
      ]
     },
     "metadata": {},
     "output_type": "display_data"
    }
   ],
   "source": [
    "# Scatterplot and Correlations\n",
    "\n",
    "# data\n",
    "x = df['cogs']\n",
    "y = df['gross income']\n",
    "\n",
    "# Plot\n",
    "plt.rcParams.update({'figure.figsize':(10,8), 'figure.dpi':100})\n",
    "plt.scatter(x, y, label=f'y Correlation = {np.round(np.corrcoef(x,y)[0,1], 2)}')\n",
    "\n",
    "# Legend\n",
    "plt.title('Scatterplot and Correlations')\n",
    "plt.xlabel('cogs')\n",
    "plt.ylabel('gross income')\n",
    "plt.legend\n",
    "plt.show()"
   ]
  },
  {
   "cell_type": "code",
   "execution_count": 7,
   "metadata": {},
   "outputs": [
    {
     "data": {
      "image/png": "[encoded data removed]",
      "text/plain": [
       "<Figure size 1000x800 with 1 Axes>"
      ]
     },
     "metadata": {
      "needs_background": "light"
     },
     "output_type": "display_data"
    }
   ],
   "source": [
    "# Scatterplot and Correlations\n",
    "# Data\n",
    "x=np.random.randn(100)\n",
    "\n",
    "y1= x*5 +9 \n",
    "y2= -5*x\n",
    "y3=np.random.randn(100)\n",
    "\n",
    "# Plot\n",
    "plt.rcParams.update({'figure.figsize':(10,8), 'figure.dpi':100})\n",
    "plt.scatter(x, y1, label=f'y1 Correlation = {np.round(np.corrcoef(x,y1)[0,1], 2)}')\n",
    "plt.scatter(x, y2, label=f'y2 Correlation = {np.round(np.corrcoef(x,y2)[0,1], 2)}')\n",
    "plt.scatter(x, y3, label=f'y3 Correlation = {np.round(np.corrcoef(x,y3)[0,1], 2)}')\n",
    "\n",
    "# Plot\n",
    "plt.title('Scatterplot and Correlations')\n",
    "plt.legend()\n",
    "plt.show()"
   ]
  },
  {
   "cell_type": "markdown",
   "metadata": {},
   "source": [
    "* mean\n",
    "* standaard deviatie \n",
    "* p-waarde\n",
    "De p-waarde is de kans dat er een effect gemeten is dat in werkelijkheid niet bestaat. Iedereen die een basiscursus statistiek gevolgd heeft, weet dat een p-waarde van minder dan 0,05 op een significant resultaat wijst. "
   ]
  },
  {
   "cell_type": "code",
   "execution_count": null,
   "metadata": {},
   "outputs": [],
   "source": [
    "import numpy as np"
   ]
  },
  {
   "cell_type": "code",
   "execution_count": 14,
   "metadata": {},
   "outputs": [
    {
     "data": {
      "text/plain": [
       "307.58738"
      ]
     },
     "execution_count": 14,
     "metadata": {},
     "output_type": "execute_result"
    }
   ],
   "source": [
    "np.mean(df['cogs'])"
   ]
  },
  {
   "cell_type": "code",
   "execution_count": 15,
   "metadata": {},
   "outputs": [
    {
     "data": {
      "text/plain": [
       "10.17"
      ]
     },
     "execution_count": 15,
     "metadata": {},
     "output_type": "execute_result"
    }
   ],
   "source": [
    "np.min(df['cogs'])"
   ]
  },
  {
   "cell_type": "code",
   "execution_count": 17,
   "metadata": {},
   "outputs": [
    {
     "data": {
      "text/plain": [
       "993.0"
      ]
     },
     "execution_count": 17,
     "metadata": {},
     "output_type": "execute_result"
    }
   ],
   "source": [
    "np.max(df['cogs'])"
   ]
  },
  {
   "cell_type": "code",
   "execution_count": 22,
   "metadata": {},
   "outputs": [
    {
     "data": {
      "image/png": "[encoded data removed]",
      "text/plain": [
       "<Figure size 1000x800 with 1 Axes>"
      ]
     },
     "metadata": {
      "needs_background": "light"
     },
     "output_type": "display_data"
    }
   ],
   "source": [
    "import matplotlib.pyplot as plt\n",
    "plt.hist(df['cogs'], bins=20)\n",
    "plt.title('Histogram of Costs of Goods Sold')\n",
    "plt.xlabel('cogs in $')\n",
    "plt.ylabel('frequency')\n",
    "plt.show()"
   ]
  },
  {
   "cell_type": "code",
   "execution_count": 47,
   "metadata": {},
   "outputs": [
    {
     "data": {
      "image/png": "[encoded data removed]",
      "text/plain": [
       "<Figure size 900x600 with 1 Axes>"
      ]
     },
     "metadata": {
      "needs_background": "light"
     },
     "output_type": "display_data"
    }
   ],
   "source": [
    "# Create a figure instance\n",
    "fig = plt.figure(1, figsize=(9, 6))\n",
    "\n",
    "# Create an axes instance\n",
    "ax = fig.add_subplot()\n",
    "\n",
    "bp = ax.boxplot([df['cogs'], df['gross income']])"
   ]
  },
  {
   "cell_type": "markdown",
   "metadata": {},
   "source": [
    "<img src=\"boxplot.png\">"
   ]
  },
  {
   "cell_type": "markdown",
   "metadata": {},
   "source": [
    "## Numpy"
   ]
  },
  {
   "cell_type": "markdown",
   "metadata": {},
   "source": [
    "* Linear Algebra Library for Python\n",
    "* Incredibly fast (as it has bindings to C libraries)\n",
    "* superpower: arrays . Why would you use Numpy arrays instead of lists? "
   ]
  },
  {
   "cell_type": "code",
   "execution_count": null,
   "metadata": {},
   "outputs": [],
   "source": [
    "Create an array\n",
    "import numpy as np\n",
    "\n",
    "# a = np.array(1,2,3,4)    # WRONG\n",
    "a = np.array([1,2,3,4])  # RIGHT\n",
    "print (a)"
   ]
  },
  {
   "cell_type": "code",
   "execution_count": null,
   "metadata": {},
   "outputs": [],
   "source": [
    "#Dit is Python (een lijst van lijsten)\n",
    "my_matrix = [[1,2,3],[4,5,6],[7,8,9],[10, 11, 12, 13, 14]]\n",
    "print(my_matrix)"
   ]
  },
  {
   "cell_type": "code",
   "execution_count": null,
   "metadata": {},
   "outputs": [],
   "source": [
    "#vanwege 3,3,3,4 constructie werkt numpy niet meer. Check op dtype\n",
    "np.array(my_matrix)"
   ]
  },
  {
   "cell_type": "code",
   "execution_count": null,
   "metadata": {},
   "outputs": [],
   "source": [
    "# Return evenly spaced values within a given interval.\n",
    "np.arange(0,20)\n",
    "print(my_matrix)"
   ]
  },
  {
   "cell_type": "code",
   "execution_count": null,
   "metadata": {},
   "outputs": [],
   "source": [
    "np.arange(0,20,2)"
   ]
  },
  {
   "cell_type": "code",
   "execution_count": null,
   "metadata": {},
   "outputs": [],
   "source": [
    "simple_array = np.array([0.23, -1, 35, 11, -44, 90.21, 0.2, -300, 300.5])\n",
    "\n",
    "simple_array.max() # returns the max from the array.\n",
    "simple_array.min() # returns the min from the array.\n",
    "simple_array.argmax() # returns the indices of the maximum value.\n",
    "simple_array.argmin() # returns the indices of the minimum value."
   ]
  },
  {
   "cell_type": "code",
   "execution_count": null,
   "metadata": {},
   "outputs": [],
   "source": [
    "Numpy arrays operations\n",
    "Arrays arithmetic operations\n",
    "Arays with a scalar operations"
   ]
  },
  {
   "cell_type": "code",
   "execution_count": null,
   "metadata": {},
   "outputs": [],
   "source": [
    "array = np.arange(0,10)\n",
    "array"
   ]
  },
  {
   "cell_type": "code",
   "execution_count": null,
   "metadata": {},
   "outputs": [],
   "source": [
    "# Addition of 2 arrays\n",
    "array + array"
   ]
  },
  {
   "cell_type": "code",
   "execution_count": null,
   "metadata": {},
   "outputs": [],
   "source": [
    "# Raise to the power (element-wise)\n",
    "array**3\n",
    "\n",
    "# Square the array (element-wise)\n",
    "np.square(array)\n",
    "\n",
    "# or power method\n",
    "np.power(array, 2) # > this is slower than the square. power is used when we want to raise to different powers different elements in the array"
   ]
  },
  {
   "cell_type": "code",
   "execution_count": null,
   "metadata": {},
   "outputs": [],
   "source": [
    "#Taking Square Roots\n",
    "np.sqrt(array)"
   ]
  },
  {
   "cell_type": "markdown",
   "metadata": {},
   "source": [
    "## Extra"
   ]
  },
  {
   "cell_type": "code",
   "execution_count": 48,
   "metadata": {},
   "outputs": [
    {
     "name": "stdout",
     "output_type": "stream",
     "text": [
      "solution is 43.0\n"
     ]
    }
   ],
   "source": [
    "import numpy as np\n",
    "equation = np.array([[6,0,0], [2,2,0], [0,1,4] ])\n",
    "right_hand_side = np.array([30,20,13])\n",
    "eq_values = np.linalg.solve(equation, right_hand_side)\n",
    "shoes, baby , cone = eq_values\n",
    "solution = shoes + (baby + shoes*2 + cone*2) * cone\n",
    "print(f\"solution is {solution}\")"
   ]
  },
  {
   "cell_type": "markdown",
   "metadata": {},
   "source": [
    "<img src='./Cones.png' width='40%'>"
   ]
  },
  {
   "cell_type": "code",
   "execution_count": null,
   "metadata": {},
   "outputs": [],
   "source": []
  }
 ],
 "metadata": {
  "kernelspec": {
   "display_name": "Python 3",
   "language": "python",
   "name": "python3"
  },
  "language_info": {
   "codemirror_mode": {
    "name": "ipython",
    "version": 3
   },
   "file_extension": ".py",
   "mimetype": "text/x-python",
   "name": "python",
   "nbconvert_exporter": "python",
   "pygments_lexer": "ipython3",
   "version": "3.8.3"
  }
 },
 "nbformat": 4,
 "nbformat_minor": 4
}
