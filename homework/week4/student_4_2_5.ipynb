{
 "cells": [
  {
   "cell_type": "markdown",
   "metadata": {},
   "source": [
    "# ETL/ELT\n",
    "\n",
    "### 4.2.5"
   ]
  },
  {
   "cell_type": "markdown",
   "metadata": {},
   "source": [
    "# Putting it all together; mini-project\n",
    "\n",
    "For this project you will need to combine data sources and generate insights.\n",
    "\n",
    "We recommend to find your data on [Kaggle](https://www.kaggle.com/datasets).\n",
    "\n",
    "Use any API.\n",
    "\n",
    "While most APIs have a free tier, you will likely need to register a key to use the API. This key will be used to check your usage with the API.\n",
    "\n",
    "Be careful with putting requests in loops(!), as you might quickly use up your free tier.\n",
    "\n",
    "If you can't find a suitable API, you are free to use the [World Bank API](https://datahelpdesk.worldbank.org/knowledgebase/topics/125589-developer-information) used in the lesson.\n",
    "\n",
    "Minimum requirements (must check all):\n",
    " - When you have selected your data; Describe your mini-project in 3-5 sentences in `#python-for-data-science` Slack channel.\n",
    "   - Which data did you select?\n",
    "   - What do you want to find?\n",
    " - Usage of a JSON or CSV dataset\n",
    " - Usage of a XML or HTML dataset\n",
    " - Usage of an API\n",
    " - Combine at least two datasets te create new information\n",
    "   - i.e. combine JSON dataset and API data\n",
    " - Visualise your data\n",
    " - Answer three of your own questions that could be interesting given your data\n",
    " - Provide a short discussion (±150 words) on:\n",
    "   - quality of the data\n",
    "   - quality of the insights\n",
    "   - business value of the questions answered\n",
    " - Provide links and names to data sources used.\n",
    "\n",
    "Extra:\n",
    " - Use more exotic or unstructured data types (`.arff`, `.log`, `.docx`, raw text or images)\n",
    " - Use large datasets (i.e. >500MB or >10.000.000 records)\n",
    " - Build and/or host a dashboard"
   ]
  },
  {
   "cell_type": "code",
   "execution_count": null,
   "metadata": {},
   "outputs": [],
   "source": [
    "..."
   ]
  }
 ],
 "metadata": {
  "kernelspec": {
   "display_name": "Python 3",
   "language": "python",
   "name": "python3"
  },
  "language_info": {
   "codemirror_mode": {
    "name": "ipython",
    "version": 3
   },
   "file_extension": ".py",
   "mimetype": "text/x-python",
   "name": "python",
   "nbconvert_exporter": "python",
   "pygments_lexer": "ipython3",
   "version": "3.8.3"
  }
 },
 "nbformat": 4,
 "nbformat_minor": 4
}
