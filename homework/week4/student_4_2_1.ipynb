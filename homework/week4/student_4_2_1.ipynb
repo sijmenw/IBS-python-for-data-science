{
 "cells": [
  {
   "cell_type": "markdown",
   "metadata": {},
   "source": [
    "# ETL/ELT\n",
    "\n",
    "### 4.2.1"
   ]
  },
  {
   "cell_type": "markdown",
   "metadata": {},
   "source": [
    "# JSON\n",
    "use `json` and `pandas` to load and normalize the data\n",
    "\n",
    "Note that pandas has a `json_normalize` function\n",
    "\n",
    "File URL:\n",
    "\n",
    "https://storage.googleapis.com/summer-school-pfds-2020/raw_nyc_phil.json"
   ]
  },
  {
   "cell_type": "code",
   "execution_count": 2,
   "metadata": {},
   "outputs": [
    {
     "name": "stdout",
     "output_type": "stream",
     "text": [
      "--2020-08-18 18:41:12--  https://storage.googleapis.com/summer-school-pfds-2020/raw_nyc_phil.json\n",
      "Resolving storage.googleapis.com (storage.googleapis.com)... 172.217.168.240, 216.58.208.112, 172.217.17.144, ...\n",
      "Connecting to storage.googleapis.com (storage.googleapis.com)|172.217.168.240|:443... connected.\n",
      "HTTP request sent, awaiting response... 200 OK\n",
      "Length: 22924462 (22M) [application/json]\n",
      "Saving to: ‘raw_nyc_phil.json.1’\n",
      "\n",
      "raw_nyc_phil.json.1 100%[===================>]  21.86M  7.57MB/s    in 2.9s    \n",
      "\n",
      "2020-08-18 18:41:15 (7.57 MB/s) - ‘raw_nyc_phil.json.1’ saved [22924462/22924462]\n",
      "\n"
     ]
    }
   ],
   "source": [
    "# Uncomment following code to download file directly\n",
    "!wget https://storage.googleapis.com/summer-school-pfds-2020/raw_nyc_phil.json\n",
    "\n",
    "# wget is available OSX and Linux machines, needs installing on Windows"
   ]
  },
  {
   "cell_type": "code",
   "execution_count": 4,
   "metadata": {},
   "outputs": [],
   "source": [
    "# Uncomment following Python code to download a file directly from given url\n",
    "import requests\n",
    "\n",
    "url = \"https://storage.googleapis.com/summer-school-pfds-2020/raw_nyc_phil.json\"\n",
    "file_name = \"raw_nyc_phil.json\"\n",
    "\n",
    "r = requests.get(url)\n",
    "\n",
    "with open(file_name, 'wb') as f:\n",
    "    f.write(r.content)"
   ]
  },
  {
   "cell_type": "markdown",
   "metadata": {},
   "source": [
    "### 1. What is the top 10 of composers by highest number of works?"
   ]
  },
  {
   "cell_type": "code",
   "execution_count": 5,
   "metadata": {},
   "outputs": [],
   "source": [
    "import json\n",
    "import pandas as pd"
   ]
  },
  {
   "cell_type": "code",
   "execution_count": null,
   "metadata": {},
   "outputs": [],
   "source": []
  },
  {
   "cell_type": "code",
   "execution_count": 13,
   "metadata": {},
   "outputs": [],
   "source": [
    "d['programs'][0];"
   ]
  },
  {
   "cell_type": "code",
   "execution_count": 6,
   "metadata": {},
   "outputs": [],
   "source": [
    "with open(\"raw_nyc_phil.json\") as f:\n",
    "    d = json.load(f)"
   ]
  },
  {
   "cell_type": "code",
   "execution_count": 16,
   "metadata": {},
   "outputs": [],
   "source": [
    "a = {5: 4, \"hoi\": \"hallo\"}"
   ]
  },
  {
   "cell_type": "code",
   "execution_count": 17,
   "metadata": {},
   "outputs": [
    {
     "data": {
      "text/plain": [
       "dict_keys([5, 'hoi'])"
      ]
     },
     "execution_count": 17,
     "metadata": {},
     "output_type": "execute_result"
    }
   ],
   "source": [
    "a.keys()"
   ]
  },
  {
   "cell_type": "code",
   "execution_count": 18,
   "metadata": {},
   "outputs": [],
   "source": [
    "data = d['programs']"
   ]
  },
  {
   "cell_type": "code",
   "execution_count": 19,
   "metadata": {},
   "outputs": [
    {
     "data": {
      "text/html": [
       "<div>\n",
       "<style scoped>\n",
       "    .dataframe tbody tr th:only-of-type {\n",
       "        vertical-align: middle;\n",
       "    }\n",
       "\n",
       "    .dataframe tbody tr th {\n",
       "        vertical-align: top;\n",
       "    }\n",
       "\n",
       "    .dataframe thead th {\n",
       "        text-align: right;\n",
       "    }\n",
       "</style>\n",
       "<table border=\"1\" class=\"dataframe\">\n",
       "  <thead>\n",
       "    <tr style=\"text-align: right;\">\n",
       "      <th></th>\n",
       "      <th>workTitle</th>\n",
       "      <th>conductorName</th>\n",
       "      <th>ID</th>\n",
       "      <th>soloists</th>\n",
       "      <th>composerName</th>\n",
       "      <th>movement</th>\n",
       "      <th>interval</th>\n",
       "      <th>movement.em</th>\n",
       "      <th>movement._</th>\n",
       "      <th>workTitle.em</th>\n",
       "      <th>workTitle._</th>\n",
       "      <th>id</th>\n",
       "      <th>orchestra</th>\n",
       "    </tr>\n",
       "  </thead>\n",
       "  <tbody>\n",
       "    <tr>\n",
       "      <th>0</th>\n",
       "      <td>SYMPHONY NO. 5 IN C MINOR, OP.67</td>\n",
       "      <td>Hill, Ureli Corelli</td>\n",
       "      <td>52446*</td>\n",
       "      <td>[]</td>\n",
       "      <td>Beethoven,  Ludwig  van</td>\n",
       "      <td>NaN</td>\n",
       "      <td>NaN</td>\n",
       "      <td>NaN</td>\n",
       "      <td>NaN</td>\n",
       "      <td>NaN</td>\n",
       "      <td>NaN</td>\n",
       "      <td>38e072a7-8fc9-4f9a-8eac-3957905c0002</td>\n",
       "      <td>New York Philharmonic</td>\n",
       "    </tr>\n",
       "    <tr>\n",
       "      <th>1</th>\n",
       "      <td>OBERON</td>\n",
       "      <td>Timm, Henry C.</td>\n",
       "      <td>8834*4</td>\n",
       "      <td>[{'soloistName': 'Otto, Antoinette', 'soloistR...</td>\n",
       "      <td>Weber,  Carl  Maria Von</td>\n",
       "      <td>\"Ozean, du Ungeheuer\" (Ocean, thou mighty mons...</td>\n",
       "      <td>NaN</td>\n",
       "      <td>NaN</td>\n",
       "      <td>NaN</td>\n",
       "      <td>NaN</td>\n",
       "      <td>NaN</td>\n",
       "      <td>38e072a7-8fc9-4f9a-8eac-3957905c0002</td>\n",
       "      <td>New York Philharmonic</td>\n",
       "    </tr>\n",
       "    <tr>\n",
       "      <th>2</th>\n",
       "      <td>QUINTET, PIANO, D MINOR, OP. 74</td>\n",
       "      <td>NaN</td>\n",
       "      <td>3642*</td>\n",
       "      <td>[{'soloistName': 'Scharfenberg, William', 'sol...</td>\n",
       "      <td>Hummel,  Johann</td>\n",
       "      <td>NaN</td>\n",
       "      <td>NaN</td>\n",
       "      <td>NaN</td>\n",
       "      <td>NaN</td>\n",
       "      <td>NaN</td>\n",
       "      <td>NaN</td>\n",
       "      <td>38e072a7-8fc9-4f9a-8eac-3957905c0002</td>\n",
       "      <td>New York Philharmonic</td>\n",
       "    </tr>\n",
       "    <tr>\n",
       "      <th>3</th>\n",
       "      <td>NaN</td>\n",
       "      <td>NaN</td>\n",
       "      <td>0*</td>\n",
       "      <td>[]</td>\n",
       "      <td>NaN</td>\n",
       "      <td>NaN</td>\n",
       "      <td>Intermission</td>\n",
       "      <td>NaN</td>\n",
       "      <td>NaN</td>\n",
       "      <td>NaN</td>\n",
       "      <td>NaN</td>\n",
       "      <td>38e072a7-8fc9-4f9a-8eac-3957905c0002</td>\n",
       "      <td>New York Philharmonic</td>\n",
       "    </tr>\n",
       "    <tr>\n",
       "      <th>4</th>\n",
       "      <td>OBERON</td>\n",
       "      <td>Etienne, Denis G.</td>\n",
       "      <td>8834*3</td>\n",
       "      <td>[]</td>\n",
       "      <td>Weber,  Carl  Maria Von</td>\n",
       "      <td>Overture</td>\n",
       "      <td>NaN</td>\n",
       "      <td>NaN</td>\n",
       "      <td>NaN</td>\n",
       "      <td>NaN</td>\n",
       "      <td>NaN</td>\n",
       "      <td>38e072a7-8fc9-4f9a-8eac-3957905c0002</td>\n",
       "      <td>New York Philharmonic</td>\n",
       "    </tr>\n",
       "    <tr>\n",
       "      <th>...</th>\n",
       "      <td>...</td>\n",
       "      <td>...</td>\n",
       "      <td>...</td>\n",
       "      <td>...</td>\n",
       "      <td>...</td>\n",
       "      <td>...</td>\n",
       "      <td>...</td>\n",
       "      <td>...</td>\n",
       "      <td>...</td>\n",
       "      <td>...</td>\n",
       "      <td>...</td>\n",
       "      <td>...</td>\n",
       "      <td>...</td>\n",
       "    </tr>\n",
       "    <tr>\n",
       "      <th>82788</th>\n",
       "      <td>MEMORIES OF MARNYI STONE</td>\n",
       "      <td>Gersen, Joshua</td>\n",
       "      <td>12636*</td>\n",
       "      <td>[]</td>\n",
       "      <td>Feng,  Shuya</td>\n",
       "      <td>NaN</td>\n",
       "      <td>NaN</td>\n",
       "      <td>NaN</td>\n",
       "      <td>NaN</td>\n",
       "      <td>NaN</td>\n",
       "      <td>NaN</td>\n",
       "      <td>68625626-8085-44e4-bdb3-d8e6ac51c95b</td>\n",
       "      <td>New York Philharmonic</td>\n",
       "    </tr>\n",
       "    <tr>\n",
       "      <th>82789</th>\n",
       "      <td>SYMPHONY NO. 9, E MINOR, OP.95 (FROM THE NEW W...</td>\n",
       "      <td>Gersen, Joshua</td>\n",
       "      <td>2877*4</td>\n",
       "      <td>[]</td>\n",
       "      <td>Dvorak,  Antonín</td>\n",
       "      <td>Allegro con fuoco</td>\n",
       "      <td>NaN</td>\n",
       "      <td>NaN</td>\n",
       "      <td>NaN</td>\n",
       "      <td>NaN</td>\n",
       "      <td>NaN</td>\n",
       "      <td>68625626-8085-44e4-bdb3-d8e6ac51c95b</td>\n",
       "      <td>New York Philharmonic</td>\n",
       "    </tr>\n",
       "    <tr>\n",
       "      <th>82790</th>\n",
       "      <td>QUIET CITY</td>\n",
       "      <td>Gilbert, Alan</td>\n",
       "      <td>52332*</td>\n",
       "      <td>[{'soloistName': 'Martin, Christopher', 'soloi...</td>\n",
       "      <td>Copland,  Aaron</td>\n",
       "      <td>NaN</td>\n",
       "      <td>NaN</td>\n",
       "      <td>NaN</td>\n",
       "      <td>NaN</td>\n",
       "      <td>NaN</td>\n",
       "      <td>NaN</td>\n",
       "      <td>5c22d35f-a282-4505-bd31-df619c74f52b</td>\n",
       "      <td>New York Philharmonic</td>\n",
       "    </tr>\n",
       "    <tr>\n",
       "      <th>82791</th>\n",
       "      <td>JUNGLE, THE (SYMPHONY NO. 4)</td>\n",
       "      <td>Gilbert, Alan</td>\n",
       "      <td>12071*</td>\n",
       "      <td>[{'soloistName': 'Jazz at Lincoln Center Orche...</td>\n",
       "      <td>Marsalis,  Wynton</td>\n",
       "      <td>NaN</td>\n",
       "      <td>NaN</td>\n",
       "      <td>NaN</td>\n",
       "      <td>NaN</td>\n",
       "      <td>NaN</td>\n",
       "      <td>NaN</td>\n",
       "      <td>5c22d35f-a282-4505-bd31-df619c74f52b</td>\n",
       "      <td>New York Philharmonic</td>\n",
       "    </tr>\n",
       "    <tr>\n",
       "      <th>82792</th>\n",
       "      <td>C JAM BLUES</td>\n",
       "      <td>NaN</td>\n",
       "      <td>8152*</td>\n",
       "      <td>[{'soloistName': 'Jazz at Lincoln Center Orche...</td>\n",
       "      <td>Ellington,  Duke</td>\n",
       "      <td>NaN</td>\n",
       "      <td>NaN</td>\n",
       "      <td>NaN</td>\n",
       "      <td>NaN</td>\n",
       "      <td>NaN</td>\n",
       "      <td>NaN</td>\n",
       "      <td>5c22d35f-a282-4505-bd31-df619c74f52b</td>\n",
       "      <td>New York Philharmonic</td>\n",
       "    </tr>\n",
       "  </tbody>\n",
       "</table>\n",
       "<p>82793 rows × 13 columns</p>\n",
       "</div>"
      ],
      "text/plain": [
       "                                               workTitle        conductorName  \\\n",
       "0                       SYMPHONY NO. 5 IN C MINOR, OP.67  Hill, Ureli Corelli   \n",
       "1                                                 OBERON       Timm, Henry C.   \n",
       "2                        QUINTET, PIANO, D MINOR, OP. 74                  NaN   \n",
       "3                                                    NaN                  NaN   \n",
       "4                                                 OBERON    Etienne, Denis G.   \n",
       "...                                                  ...                  ...   \n",
       "82788                           MEMORIES OF MARNYI STONE       Gersen, Joshua   \n",
       "82789  SYMPHONY NO. 9, E MINOR, OP.95 (FROM THE NEW W...       Gersen, Joshua   \n",
       "82790                                         QUIET CITY        Gilbert, Alan   \n",
       "82791                       JUNGLE, THE (SYMPHONY NO. 4)        Gilbert, Alan   \n",
       "82792                                        C JAM BLUES                  NaN   \n",
       "\n",
       "           ID                                           soloists  \\\n",
       "0      52446*                                                 []   \n",
       "1      8834*4  [{'soloistName': 'Otto, Antoinette', 'soloistR...   \n",
       "2       3642*  [{'soloistName': 'Scharfenberg, William', 'sol...   \n",
       "3          0*                                                 []   \n",
       "4      8834*3                                                 []   \n",
       "...       ...                                                ...   \n",
       "82788  12636*                                                 []   \n",
       "82789  2877*4                                                 []   \n",
       "82790  52332*  [{'soloistName': 'Martin, Christopher', 'soloi...   \n",
       "82791  12071*  [{'soloistName': 'Jazz at Lincoln Center Orche...   \n",
       "82792   8152*  [{'soloistName': 'Jazz at Lincoln Center Orche...   \n",
       "\n",
       "                  composerName  \\\n",
       "0      Beethoven,  Ludwig  van   \n",
       "1      Weber,  Carl  Maria Von   \n",
       "2              Hummel,  Johann   \n",
       "3                          NaN   \n",
       "4      Weber,  Carl  Maria Von   \n",
       "...                        ...   \n",
       "82788             Feng,  Shuya   \n",
       "82789         Dvorak,  Antonín   \n",
       "82790          Copland,  Aaron   \n",
       "82791        Marsalis,  Wynton   \n",
       "82792         Ellington,  Duke   \n",
       "\n",
       "                                                movement      interval  \\\n",
       "0                                                    NaN           NaN   \n",
       "1      \"Ozean, du Ungeheuer\" (Ocean, thou mighty mons...           NaN   \n",
       "2                                                    NaN           NaN   \n",
       "3                                                    NaN  Intermission   \n",
       "4                                               Overture           NaN   \n",
       "...                                                  ...           ...   \n",
       "82788                                                NaN           NaN   \n",
       "82789                                  Allegro con fuoco           NaN   \n",
       "82790                                                NaN           NaN   \n",
       "82791                                                NaN           NaN   \n",
       "82792                                                NaN           NaN   \n",
       "\n",
       "      movement.em movement._ workTitle.em workTitle._  \\\n",
       "0             NaN        NaN          NaN         NaN   \n",
       "1             NaN        NaN          NaN         NaN   \n",
       "2             NaN        NaN          NaN         NaN   \n",
       "3             NaN        NaN          NaN         NaN   \n",
       "4             NaN        NaN          NaN         NaN   \n",
       "...           ...        ...          ...         ...   \n",
       "82788         NaN        NaN          NaN         NaN   \n",
       "82789         NaN        NaN          NaN         NaN   \n",
       "82790         NaN        NaN          NaN         NaN   \n",
       "82791         NaN        NaN          NaN         NaN   \n",
       "82792         NaN        NaN          NaN         NaN   \n",
       "\n",
       "                                         id              orchestra  \n",
       "0      38e072a7-8fc9-4f9a-8eac-3957905c0002  New York Philharmonic  \n",
       "1      38e072a7-8fc9-4f9a-8eac-3957905c0002  New York Philharmonic  \n",
       "2      38e072a7-8fc9-4f9a-8eac-3957905c0002  New York Philharmonic  \n",
       "3      38e072a7-8fc9-4f9a-8eac-3957905c0002  New York Philharmonic  \n",
       "4      38e072a7-8fc9-4f9a-8eac-3957905c0002  New York Philharmonic  \n",
       "...                                     ...                    ...  \n",
       "82788  68625626-8085-44e4-bdb3-d8e6ac51c95b  New York Philharmonic  \n",
       "82789  68625626-8085-44e4-bdb3-d8e6ac51c95b  New York Philharmonic  \n",
       "82790  5c22d35f-a282-4505-bd31-df619c74f52b  New York Philharmonic  \n",
       "82791  5c22d35f-a282-4505-bd31-df619c74f52b  New York Philharmonic  \n",
       "82792  5c22d35f-a282-4505-bd31-df619c74f52b  New York Philharmonic  \n",
       "\n",
       "[82793 rows x 13 columns]"
      ]
     },
     "execution_count": 19,
     "metadata": {},
     "output_type": "execute_result"
    }
   ],
   "source": [
    "pd.json_normalize(data=data, record_path='works', meta=['id', 'orchestra'])"
   ]
  },
  {
   "cell_type": "markdown",
   "metadata": {},
   "source": [
    "# XML"
   ]
  },
  {
   "cell_type": "markdown",
   "metadata": {},
   "source": [
    "# BeautifulSoup"
   ]
  },
  {
   "cell_type": "code",
   "execution_count": 21,
   "metadata": {},
   "outputs": [
    {
     "name": "stdout",
     "output_type": "stream",
     "text": [
      "Requirement already satisfied: BeautifulSoup4 in /Users/sijmen/anaconda3/envs/summerschool/lib/python3.8/site-packages (4.9.1)\n",
      "Requirement already satisfied: soupsieve>1.2 in /Users/sijmen/anaconda3/envs/summerschool/lib/python3.8/site-packages (from BeautifulSoup4) (2.0.1)\n"
     ]
    }
   ],
   "source": [
    "!pip install BeautifulSoup4"
   ]
  },
  {
   "cell_type": "code",
   "execution_count": 22,
   "metadata": {},
   "outputs": [],
   "source": [
    "from bs4 import BeautifulSoup"
   ]
  },
  {
   "cell_type": "code",
   "execution_count": 23,
   "metadata": {},
   "outputs": [],
   "source": [
    "with open(\"merchant.xml\") as f:\n",
    "    xml_str = f.read()"
   ]
  },
  {
   "cell_type": "code",
   "execution_count": 24,
   "metadata": {},
   "outputs": [],
   "source": [
    "soup = BeautifulSoup(xml_str, 'html.parser')"
   ]
  },
  {
   "cell_type": "code",
   "execution_count": 41,
   "metadata": {},
   "outputs": [
    {
     "name": "stdout",
     "output_type": "stream",
     "text": [
      "<line>In sooth, I know not why I am so sad:</line>\n",
      "<line>It wearies me; you say it wearies you;</line>\n",
      "<line>But how I caught it, found it, or came by it,</line>\n",
      "<line>What stuff 'tis made of, whereof it is born,</line>\n",
      "<line>I am to learn;</line>\n",
      "<line>And such a want-wit sadness makes of me,</line>\n",
      "<line>That I have much ado to know myself.</line>\n"
     ]
    }
   ],
   "source": [
    "line_counter = 0\n",
    "\n",
    "for speech_part in soup.find_all(\"speech\"):\n",
    "    for line in speech_part.find_all(\"line\"):\n",
    "        print(line)"
   ]
  },
  {
   "cell_type": "code",
   "execution_count": 42,
   "metadata": {},
   "outputs": [],
   "source": [
    "a = [\n",
    "    [1,2,3],\n",
    "    [4,5,6],\n",
    "    [7,8,9]\n",
    "]"
   ]
  },
  {
   "cell_type": "code",
   "execution_count": 43,
   "metadata": {},
   "outputs": [
    {
     "name": "stdout",
     "output_type": "stream",
     "text": [
      "1\n",
      "2\n",
      "3\n",
      "4\n",
      "5\n",
      "6\n",
      "7\n",
      "8\n",
      "9\n"
     ]
    }
   ],
   "source": [
    "for lst in a:\n",
    "    for number in lst:\n",
    "        print(number)"
   ]
  },
  {
   "cell_type": "markdown",
   "metadata": {},
   "source": [
    "# SQL"
   ]
  },
  {
   "cell_type": "code",
   "execution_count": 45,
   "metadata": {},
   "outputs": [],
   "source": [
    "import sqlite3"
   ]
  },
  {
   "cell_type": "code",
   "execution_count": 46,
   "metadata": {},
   "outputs": [],
   "source": [
    "conn = sqlite3.connect(\"city.db\")"
   ]
  },
  {
   "cell_type": "code",
   "execution_count": 48,
   "metadata": {},
   "outputs": [],
   "source": [
    "cur = conn.cursor()\n",
    "cur.execute(\"SELECT * FROM city\")\n",
    "\n",
    "rows = cur.fetchall()"
   ]
  },
  {
   "cell_type": "code",
   "execution_count": 50,
   "metadata": {},
   "outputs": [
    {
     "data": {
      "text/plain": [
       "[('Abilene', '115930'),\n",
       " ('Akron', '217074'),\n",
       " ('Albany', '93994'),\n",
       " ('Albuquerque', '448607'),\n",
       " ('Alexandria', '128283')]"
      ]
     },
     "execution_count": 50,
     "metadata": {},
     "output_type": "execute_result"
    }
   ],
   "source": [
    "rows[:5]"
   ]
  },
  {
   "cell_type": "code",
   "execution_count": 51,
   "metadata": {},
   "outputs": [],
   "source": [
    "import sqlite3\n",
    "import pandas as pd"
   ]
  },
  {
   "cell_type": "code",
   "execution_count": 54,
   "metadata": {},
   "outputs": [],
   "source": [
    "conn = sqlite3.connect(\"city.db\")\n",
    "\n",
    "df = pd.read_sql(\"SELECT * FROM city\", conn)"
   ]
  },
  {
   "cell_type": "code",
   "execution_count": 59,
   "metadata": {},
   "outputs": [
    {
     "data": {
      "text/html": [
       "<div>\n",
       "<style scoped>\n",
       "    .dataframe tbody tr th:only-of-type {\n",
       "        vertical-align: middle;\n",
       "    }\n",
       "\n",
       "    .dataframe tbody tr th {\n",
       "        vertical-align: top;\n",
       "    }\n",
       "\n",
       "    .dataframe thead th {\n",
       "        text-align: right;\n",
       "    }\n",
       "</style>\n",
       "<table border=\"1\" class=\"dataframe\">\n",
       "  <thead>\n",
       "    <tr style=\"text-align: right;\">\n",
       "      <th></th>\n",
       "      <th>name</th>\n",
       "      <th>population</th>\n",
       "    </tr>\n",
       "  </thead>\n",
       "  <tbody>\n",
       "    <tr>\n",
       "      <th>0</th>\n",
       "      <td>Abilene</td>\n",
       "      <td>115930</td>\n",
       "    </tr>\n",
       "    <tr>\n",
       "      <th>1</th>\n",
       "      <td>Akron</td>\n",
       "      <td>217074</td>\n",
       "    </tr>\n",
       "    <tr>\n",
       "      <th>2</th>\n",
       "      <td>Albany</td>\n",
       "      <td>93994</td>\n",
       "    </tr>\n",
       "    <tr>\n",
       "      <th>3</th>\n",
       "      <td>Albuquerque</td>\n",
       "      <td>448607</td>\n",
       "    </tr>\n",
       "    <tr>\n",
       "      <th>4</th>\n",
       "      <td>Alexandria</td>\n",
       "      <td>128283</td>\n",
       "    </tr>\n",
       "    <tr>\n",
       "      <th>...</th>\n",
       "      <td>...</td>\n",
       "      <td>...</td>\n",
       "    </tr>\n",
       "    <tr>\n",
       "      <th>269</th>\n",
       "      <td>Wichita</td>\n",
       "      <td>344284</td>\n",
       "    </tr>\n",
       "    <tr>\n",
       "      <th>270</th>\n",
       "      <td>Wichita Falls</td>\n",
       "      <td>104197</td>\n",
       "    </tr>\n",
       "    <tr>\n",
       "      <th>271</th>\n",
       "      <td>Winston-Salem</td>\n",
       "      <td>185776</td>\n",
       "    </tr>\n",
       "    <tr>\n",
       "      <th>272</th>\n",
       "      <td>Worcester</td>\n",
       "      <td>172648</td>\n",
       "    </tr>\n",
       "    <tr>\n",
       "      <th>273</th>\n",
       "      <td>Yonkers</td>\n",
       "      <td>196086</td>\n",
       "    </tr>\n",
       "  </tbody>\n",
       "</table>\n",
       "<p>274 rows × 2 columns</p>\n",
       "</div>"
      ],
      "text/plain": [
       "              name population\n",
       "0          Abilene     115930\n",
       "1            Akron     217074\n",
       "2           Albany      93994\n",
       "3      Albuquerque     448607\n",
       "4       Alexandria     128283\n",
       "..             ...        ...\n",
       "269        Wichita     344284\n",
       "270  Wichita Falls     104197\n",
       "271  Winston-Salem     185776\n",
       "272      Worcester     172648\n",
       "273        Yonkers     196086\n",
       "\n",
       "[274 rows x 2 columns]"
      ]
     },
     "execution_count": 59,
     "metadata": {},
     "output_type": "execute_result"
    }
   ],
   "source": [
    "df"
   ]
  },
  {
   "cell_type": "code",
   "execution_count": 60,
   "metadata": {},
   "outputs": [
    {
     "name": "stdout",
     "output_type": "stream",
     "text": [
      "Requirement already satisfied: sqlalchemy in /Users/sijmen/anaconda3/envs/summerschool/lib/python3.8/site-packages (1.3.19)\n"
     ]
    }
   ],
   "source": [
    "!pip install sqlalchemy"
   ]
  },
  {
   "cell_type": "code",
   "execution_count": 62,
   "metadata": {},
   "outputs": [],
   "source": [
    "from sqlalchemy import create_engine"
   ]
  },
  {
   "cell_type": "code",
   "execution_count": 67,
   "metadata": {},
   "outputs": [],
   "source": [
    "engine = create_engine(\"sqlite:///city.db\")\n",
    "\n",
    "df = pd.read_sql(\"SELECT * FROM city\", engine)"
   ]
  }
 ],
 "metadata": {
  "kernelspec": {
   "display_name": "Python 3",
   "language": "python",
   "name": "python3"
  },
  "language_info": {
   "codemirror_mode": {
    "name": "ipython",
    "version": 3
   },
   "file_extension": ".py",
   "mimetype": "text/x-python",
   "name": "python",
   "nbconvert_exporter": "python",
   "pygments_lexer": "ipython3",
   "version": "3.8.3"
  }
 },
 "nbformat": 4,
 "nbformat_minor": 4
}
