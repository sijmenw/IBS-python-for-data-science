{
 "cells": [
  {
   "cell_type": "markdown",
   "metadata": {},
   "source": [
    "# ETL/ELT\n",
    "\n",
    "### 4.2.1"
   ]
  },
  {
   "cell_type": "markdown",
   "metadata": {},
   "source": [
    "# JSON\n",
    "use `json` and `pandas` to load and normalize the data\n",
    "\n",
    "Note that pandas has a `json_normalize` function\n",
    "\n",
    "File URL:\n",
    "\n",
    "https://storage.googleapis.com/summer-school-pfds-2020/raw_nyc_phil.json"
   ]
  },
  {
   "cell_type": "code",
   "execution_count": null,
   "metadata": {},
   "outputs": [],
   "source": [
    "# Uncomment following code to download file directly\n",
    "# !wget [url]\n",
    "\n",
    "# wget is available OSX and Linux machines, needs installing on Windows"
   ]
  },
  {
   "cell_type": "code",
   "execution_count": null,
   "metadata": {},
   "outputs": [],
   "source": [
    "# Uncomment following Python code to download a file directly from given url\n",
    "# import requests\n",
    "\n",
    "# url = ...\n",
    "# file_name = ...\n",
    "\n",
    "# r = requests.get(url)\n",
    "\n",
    "# with open(file_name, 'wb') as f:\n",
    "#     f.write(r.content)"
   ]
  },
  {
   "cell_type": "markdown",
   "metadata": {},
   "source": [
    "### 1. What is the top 10 of composers by highest number of works?"
   ]
  },
  {
   "cell_type": "code",
   "execution_count": null,
   "metadata": {},
   "outputs": [],
   "source": [
    "..."
   ]
  }
 ],
 "metadata": {
  "kernelspec": {
   "display_name": "Python 3",
   "language": "python",
   "name": "python3"
  },
  "language_info": {
   "codemirror_mode": {
    "name": "ipython",
    "version": 3
   },
   "file_extension": ".py",
   "mimetype": "text/x-python",
   "name": "python",
   "nbconvert_exporter": "python",
   "pygments_lexer": "ipython3",
   "version": "3.8.3"
  }
 },
 "nbformat": 4,
 "nbformat_minor": 4
}
