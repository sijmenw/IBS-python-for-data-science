{
 "cells": [
  {
   "cell_type": "markdown",
   "metadata": {},
   "source": [
    "# Machine learning\n",
    "\n",
    "## First ML model part 3\n",
    "### 5.1.5"
   ]
  },
  {
   "cell_type": "markdown",
   "metadata": {},
   "source": [
    "## Download and load the data"
   ]
  },
  {
   "cell_type": "code",
   "execution_count": null,
   "metadata": {},
   "outputs": [],
   "source": [
    "import requests\n",
    "import pandas as pd"
   ]
  },
  {
   "cell_type": "code",
   "execution_count": null,
   "metadata": {},
   "outputs": [],
   "source": [
    "url = \"https://storage.googleapis.com/summer-school-pfds-2020/housing.csv\"\n",
    "file_name = \"housing.csv\"\n",
    "\n",
    "r = requests.get(url)\n",
    "\n",
    "with open(file_name, 'wb') as f:\n",
    "    f.write(r.content)"
   ]
  },
  {
   "cell_type": "code",
   "execution_count": null,
   "metadata": {},
   "outputs": [],
   "source": [
    "df = pd.read_csv(\"housing.csv\")"
   ]
  },
  {
   "cell_type": "markdown",
   "metadata": {},
   "source": [
    "# First ML model\n",
    "Here, you will create a machine learning model from scratch, using only one input feature, a bias and a single target variable."
   ]
  },
  {
   "cell_type": "markdown",
   "metadata": {},
   "source": [
    "### Extract variables from DataFrame\n",
    "\n",
    "`GrLivArea` column as X (feature)\n",
    "`SalePrice` column as y (target)\n",
    "\n",
    "Use `pandas` `to_numpy()` to transform the column into a Numpy array."
   ]
  },
  {
   "cell_type": "code",
   "execution_count": null,
   "metadata": {},
   "outputs": [],
   "source": [
    "X = df['GrLivArea'].to_numpy()\n",
    "y = df['SalePrice'].to_numpy()"
   ]
  },
  {
   "cell_type": "markdown",
   "metadata": {},
   "source": [
    "### Predict function\n",
    "Create a function to predict the outcome given input x"
   ]
  },
  {
   "cell_type": "code",
   "execution_count": null,
   "metadata": {},
   "outputs": [],
   "source": [
    "def predict(x):\n",
    "    return w1 * x + b"
   ]
  },
  {
   "cell_type": "markdown",
   "metadata": {},
   "source": [
    "# Normalization\n",
    "\n",
    "Normalize the X and y data between 0 and 1"
   ]
  },
  {
   "cell_type": "code",
   "execution_count": null,
   "metadata": {},
   "outputs": [],
   "source": [
    "..."
   ]
  },
  {
   "cell_type": "markdown",
   "metadata": {},
   "source": [
    "# Training\n",
    "\n",
    "## Note: Use the same code you created in 5.1.4\n",
    "\n",
    "Do multiple epochs of training\n",
    "\n",
    "One epoch = one iteration over all the data\n",
    "\n",
    "Add the following:\n",
    " - calculate y_hat and error\n",
    " - lists for weights, biases and errors\n",
    " - save weights, biases and errors after each iteration\n",
    " \n",
    "Extra:\n",
    " - add a print statement that prints the RMSE of the last completed epoch after each epoch"
   ]
  },
  {
   "cell_type": "code",
   "execution_count": null,
   "metadata": {},
   "outputs": [],
   "source": [
    "# init weight and bias\n",
    "w1 = 150\n",
    "b = 0\n",
    "\n",
    "# set learning_rate\n",
    "learning_rate = 1e-7\n",
    "\n",
    "# set number of epochs\n",
    "epoch_n = 20\n",
    "\n",
    "# for each epoch\n",
    "for epoch in range(epoch_n):\n",
    "    \n",
    "    # iterate over all data\n",
    "    for idx, x in enumerate(X):\n",
    "        y_hat = ...\n",
    "        err = ...\n",
    "\n",
    "        # adjust weights and bias\n",
    "        # You do not need to modify this code!\n",
    "        b -= learning_rate * 1 * err\n",
    "        w1 -= learning_rate * x * err\n",
    "        \n",
    "        # save biases, weights and errors\n",
    "        ..."
   ]
  },
  {
   "cell_type": "markdown",
   "metadata": {},
   "source": [
    "### Plots\n",
    "\n",
    "Plot the following:\n",
    " - average error over epochs\n",
    " - weight over epochs\n",
    " - bias over epochs"
   ]
  },
  {
   "cell_type": "code",
   "execution_count": null,
   "metadata": {},
   "outputs": [],
   "source": [
    "..."
   ]
  },
  {
   "cell_type": "code",
   "execution_count": null,
   "metadata": {},
   "outputs": [],
   "source": [
    "..."
   ]
  },
  {
   "cell_type": "code",
   "execution_count": null,
   "metadata": {},
   "outputs": [],
   "source": [
    "..."
   ]
  },
  {
   "cell_type": "markdown",
   "metadata": {},
   "source": [
    "# Visualize model\n",
    "\n",
    "Show the following in one plot:\n",
    " - scatterplot with GrLivArea on the X axis and SalePrice on the Y axis\n",
    " - line that shows the found model (weight + bias, plot in red)"
   ]
  },
  {
   "cell_type": "code",
   "execution_count": null,
   "metadata": {},
   "outputs": [],
   "source": [
    "..."
   ]
  },
  {
   "cell_type": "markdown",
   "metadata": {},
   "source": [
    "# Discussion:\n",
    "\n",
    "- Does the red line model the data correctly?\n",
    "- Is the training stopped after an appropriate number of epochs?"
   ]
  },
  {
   "cell_type": "code",
   "execution_count": null,
   "metadata": {},
   "outputs": [],
   "source": [
    "Answer here..."
   ]
  },
  {
   "cell_type": "markdown",
   "metadata": {},
   "source": [
    "# Calculate the error of the new model\n",
    "Note that w and b combined are the model here"
   ]
  },
  {
   "cell_type": "markdown",
   "metadata": {},
   "source": [
    "Follow these steps:\n",
    "1. Load data\n",
    "2. Normalize data\n",
    "3. Predict\n",
    "4. Denormalize prediction\n",
    "5. Calculate errors\n",
    "\n",
    "Note that the normalization and denormalization functions are given"
   ]
  },
  {
   "cell_type": "markdown",
   "metadata": {},
   "source": [
    "### Load the data"
   ]
  },
  {
   "cell_type": "code",
   "execution_count": null,
   "metadata": {},
   "outputs": [],
   "source": [
    "X = df['GrLivArea'].to_numpy()\n",
    "y = df['SalePrice'].to_numpy()"
   ]
  },
  {
   "cell_type": "markdown",
   "metadata": {},
   "source": [
    "### Normalize and denormalize functions"
   ]
  },
  {
   "cell_type": "code",
   "execution_count": null,
   "metadata": {},
   "outputs": [],
   "source": [
    "def normalize(arr):\n",
    "    shift = min(arr)\n",
    "    data_range = max(arr) - min(arr)\n",
    "    return (arr - shift) / data_range, shift, data_range"
   ]
  },
  {
   "cell_type": "code",
   "execution_count": null,
   "metadata": {},
   "outputs": [],
   "source": [
    "def denormalize(arr, shift, data_range):\n",
    "    return (arr * data_range) + shift"
   ]
  },
  {
   "cell_type": "markdown",
   "metadata": {},
   "source": [
    "### Normalize the data"
   ]
  },
  {
   "cell_type": "code",
   "execution_count": null,
   "metadata": {},
   "outputs": [],
   "source": [
    "..."
   ]
  },
  {
   "cell_type": "markdown",
   "metadata": {},
   "source": [
    "### Predict (y_hat)"
   ]
  },
  {
   "cell_type": "code",
   "execution_count": null,
   "metadata": {},
   "outputs": [],
   "source": [
    "..."
   ]
  },
  {
   "cell_type": "markdown",
   "metadata": {},
   "source": [
    "### Denormalize predictions"
   ]
  },
  {
   "cell_type": "code",
   "execution_count": null,
   "metadata": {},
   "outputs": [],
   "source": []
  },
  {
   "cell_type": "markdown",
   "metadata": {},
   "source": [
    "### Calculate RMSE and MAPE over denormalized predictions"
   ]
  },
  {
   "cell_type": "code",
   "execution_count": null,
   "metadata": {},
   "outputs": [],
   "source": [
    "RMSE(preds, df['SalePrice'].to_numpy())"
   ]
  },
  {
   "cell_type": "code",
   "execution_count": null,
   "metadata": {},
   "outputs": [],
   "source": [
    "MAPE(preds, df['SalePrice'].to_numpy())"
   ]
  },
  {
   "cell_type": "markdown",
   "metadata": {},
   "source": [
    "### Did the model beat the baseline calculated in 5.1.2?"
   ]
  },
  {
   "cell_type": "code",
   "execution_count": null,
   "metadata": {},
   "outputs": [],
   "source": [
    "Answer here..."
   ]
  }
 ],
 "metadata": {
  "kernelspec": {
   "display_name": "Python 3",
   "language": "python",
   "name": "python3"
  },
  "language_info": {
   "codemirror_mode": {
    "name": "ipython",
    "version": 3
   },
   "file_extension": ".py",
   "mimetype": "text/x-python",
   "name": "python",
   "nbconvert_exporter": "python",
   "pygments_lexer": "ipython3",
   "version": "3.8.3"
  }
 },
 "nbformat": 4,
 "nbformat_minor": 4
}
